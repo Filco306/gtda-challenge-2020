{
 "cells": [
  {
   "cell_type": "markdown",
   "metadata": {},
   "source": [
    "\n",
    "# **Giotto-TDA Challenge**\n",
    "# Predicting Volcano Eruption\n",
    "   "
   ]
  },
  {
   "cell_type": "markdown",
   "metadata": {},
   "source": [
    "**Summary:**In this approach we show how TDA can be an effective tool for regression on **multivariate** time series analysis. We compare the TDA approach with a standard baseline approach and after show that a respectable performance can be achieved by merging both. We validate our results by comparing with the Kaggle leaderboard.\n",
    "\n",
    "**Data:** We'll be with the sensor data of several volcanoes, the objective is to predict the time untill eruption based on each volcano's sensor data. For runtime reasons we will be working with only 1/9 of the data (the full dataset is 20Gb). The full data along with the competition can be found here: https://www.kaggle.com/c/predict-volcanic-eruptions-ingv-oe/overview\n",
    "\n"
   ]
  },
  {
   "cell_type": "markdown",
   "metadata": {},
   "source": [
    "# **I.**  The Task"
   ]
  },
  {
   "cell_type": "markdown",
   "metadata": {},
   "source": [
    "Earthquakes are devastating fenomena whose damage is not only human but material. The most challenging aspects of sismic behaviour is its unpredictability. But what is it was possible to predict earthquakes in advance as such as other environmental occurences such as the weather? Current estimates are only reliable a couple of minutes in advance and they usually fail at longer-term predictions.\n",
    "\n",
    "Italy's Istituto Nazionale di Geofisica e Vulcanologia (INGV), with its focus on geophysics and volcanology, has issued a challenge regarding this task. (https://www.kaggle.com/c/predict-volcanic-eruptions-ingv-oe/overview).\n",
    "\n",
    "\n",
    "**Task Description:** To predict \"time to eruption” by surveying volcanic tremors from seismic signals. \n",
    "\n",
    "**Data Description:** The data has 1000 volcanoes, each volcano has 10 sensors. Each sensor is a time-series data. The objective is to predict the time it will take for the volcano to erupt given the data in each sensor."
   ]
  },
  {
   "cell_type": "markdown",
   "metadata": {},
   "source": [
    "<img src=\"images/giotto_first_fig.png\">"
   ]
  },
  {
   "cell_type": "markdown",
   "metadata": {},
   "source": [
    "Fig.1 Illustration of a single observation of the dataset. For each volcano there are 10 sensors, each sensor is a time-series."
   ]
  },
  {
   "cell_type": "markdown",
   "metadata": {},
   "source": [
    "# **II.** Libraries "
   ]
  },
  {
   "cell_type": "markdown",
   "metadata": {},
   "source": [
    "We will use tensorflow and xgboost for regression (aside from the regular libraries such as pandas, numpy and giotto-tda)"
   ]
  },
  {
   "cell_type": "code",
   "execution_count": 1,
   "metadata": {},
   "outputs": [
    {
     "name": "stdout",
     "output_type": "stream",
     "text": [
      "Requirement already satisfied: xgboost in /Users/matteocaorsi/anaconda3/lib/python3.6/site-packages (0.82)\n",
      "Requirement already satisfied: tensorflow in /Users/matteocaorsi/anaconda3/lib/python3.6/site-packages (2.3.1)\n",
      "Requirement already satisfied: sklearn in /Users/matteocaorsi/anaconda3/lib/python3.6/site-packages/sklearn-0.0-py3.6.egg (0.0)\n",
      "Requirement already satisfied: tensorflow-addons in /Users/matteocaorsi/anaconda3/lib/python3.6/site-packages (0.11.2)\n",
      "Requirement already satisfied: numpy in /Users/matteocaorsi/anaconda3/lib/python3.6/site-packages (from xgboost) (1.18.5)\n",
      "Requirement already satisfied: scipy in /Users/matteocaorsi/anaconda3/lib/python3.6/site-packages (from xgboost) (1.5.2)\n",
      "Requirement already satisfied: absl-py>=0.7.0 in /Users/matteocaorsi/anaconda3/lib/python3.6/site-packages (from tensorflow) (0.7.0)\n",
      "Requirement already satisfied: grpcio>=1.8.6 in /Users/matteocaorsi/anaconda3/lib/python3.6/site-packages (from tensorflow) (1.16.1)\n",
      "Requirement already satisfied: astunparse==1.6.3 in /Users/matteocaorsi/anaconda3/lib/python3.6/site-packages (from tensorflow) (1.6.3)\n",
      "Requirement already satisfied: opt-einsum>=2.3.2 in /Users/matteocaorsi/anaconda3/lib/python3.6/site-packages (from tensorflow) (3.3.0)\n",
      "Requirement already satisfied: tensorboard<3,>=2.3.0 in /Users/matteocaorsi/anaconda3/lib/python3.6/site-packages (from tensorflow) (2.4.0)\n",
      "Requirement already satisfied: termcolor>=1.1.0 in /Users/matteocaorsi/anaconda3/lib/python3.6/site-packages (from tensorflow) (1.1.0)\n",
      "Requirement already satisfied: wheel>=0.26 in /Users/matteocaorsi/anaconda3/lib/python3.6/site-packages (from tensorflow) (0.34.2)\n",
      "Requirement already satisfied: wrapt>=1.11.1 in /Users/matteocaorsi/anaconda3/lib/python3.6/site-packages (from tensorflow) (1.11.1)\n",
      "Requirement already satisfied: google-pasta>=0.1.8 in /Users/matteocaorsi/anaconda3/lib/python3.6/site-packages (from tensorflow) (0.2.0)\n",
      "Requirement already satisfied: keras-preprocessing<1.2,>=1.1.1 in /Users/matteocaorsi/anaconda3/lib/python3.6/site-packages (from tensorflow) (1.1.2)\n",
      "Requirement already satisfied: six>=1.12.0 in /Users/matteocaorsi/anaconda3/lib/python3.6/site-packages (from tensorflow) (1.12.0)\n",
      "Requirement already satisfied: protobuf>=3.9.2 in /Users/matteocaorsi/anaconda3/lib/python3.6/site-packages (from tensorflow) (3.14.0)\n",
      "Requirement already satisfied: tensorflow-estimator<2.4.0,>=2.3.0 in /Users/matteocaorsi/anaconda3/lib/python3.6/site-packages (from tensorflow) (2.3.0)\n",
      "Requirement already satisfied: gast==0.3.3 in /Users/matteocaorsi/anaconda3/lib/python3.6/site-packages (from tensorflow) (0.3.3)\n",
      "Requirement already satisfied: h5py<2.11.0,>=2.10.0 in /Users/matteocaorsi/anaconda3/lib/python3.6/site-packages (from tensorflow) (2.10.0)\n",
      "Requirement already satisfied: scikit-learn in /Users/matteocaorsi/anaconda3/lib/python3.6/site-packages (from sklearn) (0.23.2)\n",
      "Requirement already satisfied: typeguard>=2.7 in /Users/matteocaorsi/anaconda3/lib/python3.6/site-packages (from tensorflow-addons) (2.10.0)\n",
      "Requirement already satisfied: setuptools>=41.0.0 in /Users/matteocaorsi/anaconda3/lib/python3.6/site-packages (from tensorboard<3,>=2.3.0->tensorflow) (50.3.2)\n",
      "Requirement already satisfied: google-auth<2,>=1.6.3 in /Users/matteocaorsi/anaconda3/lib/python3.6/site-packages (from tensorboard<3,>=2.3.0->tensorflow) (1.11.2)\n",
      "Requirement already satisfied: markdown>=2.6.8 in /Users/matteocaorsi/anaconda3/lib/python3.6/site-packages (from tensorboard<3,>=2.3.0->tensorflow) (3.0.1)\n",
      "Requirement already satisfied: requests<3,>=2.21.0 in /Users/matteocaorsi/anaconda3/lib/python3.6/site-packages (from tensorboard<3,>=2.3.0->tensorflow) (2.21.0)\n",
      "Requirement already satisfied: werkzeug>=0.11.15 in /Users/matteocaorsi/anaconda3/lib/python3.6/site-packages (from tensorboard<3,>=2.3.0->tensorflow) (0.15.1)\n",
      "Requirement already satisfied: google-auth-oauthlib<0.5,>=0.4.1 in /Users/matteocaorsi/anaconda3/lib/python3.6/site-packages (from tensorboard<3,>=2.3.0->tensorflow) (0.4.2)\n",
      "Requirement already satisfied: tensorboard-plugin-wit>=1.6.0 in /Users/matteocaorsi/anaconda3/lib/python3.6/site-packages (from tensorboard<3,>=2.3.0->tensorflow) (1.7.0)\n",
      "Requirement already satisfied: threadpoolctl>=2.0.0 in /Users/matteocaorsi/anaconda3/lib/python3.6/site-packages (from scikit-learn->sklearn) (2.1.0)\n",
      "Requirement already satisfied: joblib>=0.11 in /Users/matteocaorsi/anaconda3/lib/python3.6/site-packages (from scikit-learn->sklearn) (0.17.0)\n",
      "Requirement already satisfied: cachetools<5.0,>=2.0.0 in /Users/matteocaorsi/anaconda3/lib/python3.6/site-packages (from google-auth<2,>=1.6.3->tensorboard<3,>=2.3.0->tensorflow) (4.0.0)\n",
      "Requirement already satisfied: pyasn1-modules>=0.2.1 in /Users/matteocaorsi/anaconda3/lib/python3.6/site-packages (from google-auth<2,>=1.6.3->tensorboard<3,>=2.3.0->tensorflow) (0.2.4)\n",
      "Requirement already satisfied: rsa<4.1,>=3.1.4 in /Users/matteocaorsi/anaconda3/lib/python3.6/site-packages (from google-auth<2,>=1.6.3->tensorboard<3,>=2.3.0->tensorflow) (4.0)\n",
      "Requirement already satisfied: urllib3<1.25,>=1.21.1 in /Users/matteocaorsi/anaconda3/lib/python3.6/site-packages (from requests<3,>=2.21.0->tensorboard<3,>=2.3.0->tensorflow) (1.24.1)\n",
      "Requirement already satisfied: idna<2.9,>=2.5 in /Users/matteocaorsi/anaconda3/lib/python3.6/site-packages (from requests<3,>=2.21.0->tensorboard<3,>=2.3.0->tensorflow) (2.8)\n",
      "Requirement already satisfied: certifi>=2017.4.17 in /Users/matteocaorsi/anaconda3/lib/python3.6/site-packages (from requests<3,>=2.21.0->tensorboard<3,>=2.3.0->tensorflow) (2020.6.20)\n",
      "Requirement already satisfied: chardet<3.1.0,>=3.0.2 in /Users/matteocaorsi/anaconda3/lib/python3.6/site-packages (from requests<3,>=2.21.0->tensorboard<3,>=2.3.0->tensorflow) (3.0.4)\n",
      "Requirement already satisfied: requests-oauthlib>=0.7.0 in /Users/matteocaorsi/anaconda3/lib/python3.6/site-packages (from google-auth-oauthlib<0.5,>=0.4.1->tensorboard<3,>=2.3.0->tensorflow) (1.2.0)\n",
      "Requirement already satisfied: pyasn1<0.5.0,>=0.4.1 in /Users/matteocaorsi/anaconda3/lib/python3.6/site-packages (from pyasn1-modules>=0.2.1->google-auth<2,>=1.6.3->tensorboard<3,>=2.3.0->tensorflow) (0.4.4)\n",
      "Requirement already satisfied: oauthlib>=3.0.0 in /Users/matteocaorsi/anaconda3/lib/python3.6/site-packages (from requests-oauthlib>=0.7.0->google-auth-oauthlib<0.5,>=0.4.1->tensorboard<3,>=2.3.0->tensorflow) (3.0.1)\n"
     ]
    }
   ],
   "source": [
    "import sys\n",
    "!{sys.executable} -m pip install xgboost tensorflow sklearn tensorflow-addons"
   ]
  },
  {
   "cell_type": "code",
   "execution_count": 2,
   "metadata": {},
   "outputs": [],
   "source": [
    "#Data wrangling\n",
    "import pandas as pd\n",
    "import numpy as np\n",
    "import matplotlib.pyplot as plt\n",
    "import os\n",
    "\n",
    "#TDA\n",
    "from gtda.diagrams import PersistenceEntropy, Scaler, PairwiseDistance, Amplitude\n",
    "from gtda.homology import VietorisRipsPersistence\n",
    "from gtda.metaestimators import CollectionTransformer\n",
    "from gtda.pipeline import Pipeline\n",
    "from gtda.time_series import TakensEmbedding, PearsonDissimilarity\n",
    "from gtda.plotting import plot_diagram\n",
    "\n",
    "\n",
    "#Benchmarking\n",
    "import tensorflow as tf\n",
    "import tensorflow.keras.backend as bk\n",
    "import tensorflow.keras.layers as ly\n",
    "import tensorflow.keras.models as ml\n",
    "from tensorflow.keras.callbacks import EarlyStopping,ReduceLROnPlateau\n",
    "import tensorflow_addons as tfa\n",
    "import xgboost\n",
    "from sklearn.model_selection import KFold"
   ]
  },
  {
   "cell_type": "markdown",
   "metadata": {},
   "source": [
    "# **III.** The Data"
   ]
  },
  {
   "cell_type": "markdown",
   "metadata": {},
   "source": [
    "This is just 1/8 of the whole dataset. We download it directly from kaggle but for that we need its API"
   ]
  },
  {
   "cell_type": "code",
   "execution_count": 3,
   "metadata": {},
   "outputs": [
    {
     "name": "stdout",
     "output_type": "stream",
     "text": [
      "Requirement already satisfied: kaggle in /Users/matteocaorsi/anaconda3/lib/python3.6/site-packages (1.5.9)\n",
      "Requirement already satisfied: slugify in /Users/matteocaorsi/anaconda3/lib/python3.6/site-packages (from kaggle) (0.0.1)\n",
      "Requirement already satisfied: urllib3 in /Users/matteocaorsi/anaconda3/lib/python3.6/site-packages (from kaggle) (1.24.1)\n",
      "Requirement already satisfied: six>=1.10 in /Users/matteocaorsi/anaconda3/lib/python3.6/site-packages (from kaggle) (1.12.0)\n",
      "Requirement already satisfied: python-dateutil in /Users/matteocaorsi/anaconda3/lib/python3.6/site-packages (from kaggle) (2.8.0)\n",
      "Requirement already satisfied: certifi in /Users/matteocaorsi/anaconda3/lib/python3.6/site-packages (from kaggle) (2020.6.20)\n",
      "Requirement already satisfied: tqdm in /Users/matteocaorsi/anaconda3/lib/python3.6/site-packages (from kaggle) (4.48.0)\n",
      "Requirement already satisfied: python-slugify in /Users/matteocaorsi/anaconda3/lib/python3.6/site-packages (from kaggle) (4.0.1)\n",
      "Requirement already satisfied: requests in /Users/matteocaorsi/anaconda3/lib/python3.6/site-packages (from kaggle) (2.21.0)\n",
      "Requirement already satisfied: text-unidecode>=1.3 in /Users/matteocaorsi/anaconda3/lib/python3.6/site-packages (from python-slugify->kaggle) (1.3)\n",
      "Requirement already satisfied: chardet<3.1.0,>=3.0.2 in /Users/matteocaorsi/anaconda3/lib/python3.6/site-packages (from requests->kaggle) (3.0.4)\n",
      "Requirement already satisfied: idna<2.9,>=2.5 in /Users/matteocaorsi/anaconda3/lib/python3.6/site-packages (from requests->kaggle) (2.8)\n",
      "mkdir: /Users/matteocaorsi/.kaggle: File exists\n"
     ]
    }
   ],
   "source": [
    "!{sys.executable} -m pip install kaggle\n",
    "!mkdir ~/.kaggle \n",
    "!cp kaggle.json ~/.kaggle/\n",
    "!chmod 600 ~/.kaggle/kaggle.json"
   ]
  },
  {
   "cell_type": "code",
   "execution_count": 4,
   "metadata": {},
   "outputs": [
    {
     "name": "stdout",
     "output_type": "stream",
     "text": [
      "Downloading volcano-data.zip to /Users/matteocaorsi/Desktop/gtda-challenge-2020/Antonio-Leitao\n",
      "100%|█████████████████████████████████████▉| 1.15G/1.15G [01:09<00:00, 26.6MB/s]\n",
      "100%|██████████████████████████████████████| 1.15G/1.15G [01:09<00:00, 17.9MB/s]\n"
     ]
    }
   ],
   "source": [
    "#Download the data\n",
    "!kaggle datasets download -d antnioleito/volcano-data"
   ]
  },
  {
   "cell_type": "code",
   "execution_count": 5,
   "metadata": {},
   "outputs": [],
   "source": [
    "#unzip the data\n",
    "import zipfile\n",
    "with zipfile.ZipFile('volcano-data.zip', 'r') as zip_ref:\n",
    "    zip_ref.extractall('data')"
   ]
  },
  {
   "cell_type": "code",
   "execution_count": 30,
   "metadata": {},
   "outputs": [],
   "source": [
    "file_list = os.listdir('data/')\n",
    "file_list.remove('train_csv')\n"
   ]
  },
  {
   "cell_type": "code",
   "execution_count": 31,
   "metadata": {},
   "outputs": [],
   "source": [
    "volcano_ids = [item for item in file_list]\n",
    "labels = pd.read_csv('train.csv')\n"
   ]
  },
  {
   "cell_type": "markdown",
   "metadata": {},
   "source": [
    "<span style=\"color:#2F4F4F\">**volcano_ids**</span> has the id of each volcano, each volcano has a dataframe of 60000 entries for each of its 10 sensors"
   ]
  },
  {
   "cell_type": "code",
   "execution_count": 32,
   "metadata": {},
   "outputs": [
    {
     "data": {
      "text/html": [
       "<div>\n",
       "<style scoped>\n",
       "    .dataframe tbody tr th:only-of-type {\n",
       "        vertical-align: middle;\n",
       "    }\n",
       "\n",
       "    .dataframe tbody tr th {\n",
       "        vertical-align: top;\n",
       "    }\n",
       "\n",
       "    .dataframe thead th {\n",
       "        text-align: right;\n",
       "    }\n",
       "</style>\n",
       "<table border=\"1\" class=\"dataframe\">\n",
       "  <thead>\n",
       "    <tr style=\"text-align: right;\">\n",
       "      <th></th>\n",
       "      <th>sensor_1</th>\n",
       "      <th>sensor_2</th>\n",
       "      <th>sensor_3</th>\n",
       "      <th>sensor_4</th>\n",
       "      <th>sensor_5</th>\n",
       "      <th>sensor_6</th>\n",
       "      <th>sensor_7</th>\n",
       "      <th>sensor_8</th>\n",
       "      <th>sensor_9</th>\n",
       "      <th>sensor_10</th>\n",
       "    </tr>\n",
       "  </thead>\n",
       "  <tbody>\n",
       "    <tr>\n",
       "      <th>0</th>\n",
       "      <td>15.0</td>\n",
       "      <td>1056.0</td>\n",
       "      <td>146.0</td>\n",
       "      <td>-324.0</td>\n",
       "      <td>87.0</td>\n",
       "      <td>-629.0</td>\n",
       "      <td>-463.0</td>\n",
       "      <td>635.0</td>\n",
       "      <td>301.0</td>\n",
       "      <td>210.0</td>\n",
       "    </tr>\n",
       "    <tr>\n",
       "      <th>1</th>\n",
       "      <td>-4.0</td>\n",
       "      <td>-101.0</td>\n",
       "      <td>190.0</td>\n",
       "      <td>121.0</td>\n",
       "      <td>-20.0</td>\n",
       "      <td>-716.0</td>\n",
       "      <td>-401.0</td>\n",
       "      <td>474.0</td>\n",
       "      <td>139.0</td>\n",
       "      <td>108.0</td>\n",
       "    </tr>\n",
       "    <tr>\n",
       "      <th>2</th>\n",
       "      <td>-24.0</td>\n",
       "      <td>-118.0</td>\n",
       "      <td>199.0</td>\n",
       "      <td>-48.0</td>\n",
       "      <td>335.0</td>\n",
       "      <td>-429.0</td>\n",
       "      <td>-247.0</td>\n",
       "      <td>670.0</td>\n",
       "      <td>47.0</td>\n",
       "      <td>-10.0</td>\n",
       "    </tr>\n",
       "    <tr>\n",
       "      <th>3</th>\n",
       "      <td>14.0</td>\n",
       "      <td>1968.0</td>\n",
       "      <td>238.0</td>\n",
       "      <td>-118.0</td>\n",
       "      <td>-10.0</td>\n",
       "      <td>-217.0</td>\n",
       "      <td>-40.0</td>\n",
       "      <td>445.0</td>\n",
       "      <td>-23.0</td>\n",
       "      <td>-138.0</td>\n",
       "    </tr>\n",
       "    <tr>\n",
       "      <th>4</th>\n",
       "      <td>-2.0</td>\n",
       "      <td>-570.0</td>\n",
       "      <td>349.0</td>\n",
       "      <td>-35.0</td>\n",
       "      <td>-51.0</td>\n",
       "      <td>-481.0</td>\n",
       "      <td>93.0</td>\n",
       "      <td>158.0</td>\n",
       "      <td>137.0</td>\n",
       "      <td>-271.0</td>\n",
       "    </tr>\n",
       "  </tbody>\n",
       "</table>\n",
       "</div>"
      ],
      "text/plain": [
       "   sensor_1  sensor_2  sensor_3  sensor_4  sensor_5  sensor_6  sensor_7  \\\n",
       "0      15.0    1056.0     146.0    -324.0      87.0    -629.0    -463.0   \n",
       "1      -4.0    -101.0     190.0     121.0     -20.0    -716.0    -401.0   \n",
       "2     -24.0    -118.0     199.0     -48.0     335.0    -429.0    -247.0   \n",
       "3      14.0    1968.0     238.0    -118.0     -10.0    -217.0     -40.0   \n",
       "4      -2.0    -570.0     349.0     -35.0     -51.0    -481.0      93.0   \n",
       "\n",
       "   sensor_8  sensor_9  sensor_10  \n",
       "0     635.0     301.0      210.0  \n",
       "1     474.0     139.0      108.0  \n",
       "2     670.0      47.0      -10.0  \n",
       "3     445.0     -23.0     -138.0  \n",
       "4     158.0     137.0     -271.0  "
      ]
     },
     "execution_count": 32,
     "metadata": {},
     "output_type": "execute_result"
    }
   ],
   "source": [
    "temp = pd.read_csv('data/'+volcano_ids[0])\n",
    "temp.head()"
   ]
  },
  {
   "cell_type": "markdown",
   "metadata": {},
   "source": [
    "<span style=\"color:#2F4F4F\">**labels**</span> has the id of each volcano and the \"time to erupt\" our regression target. "
   ]
  },
  {
   "cell_type": "code",
   "execution_count": 33,
   "metadata": {},
   "outputs": [
    {
     "data": {
      "text/html": [
       "<div>\n",
       "<style scoped>\n",
       "    .dataframe tbody tr th:only-of-type {\n",
       "        vertical-align: middle;\n",
       "    }\n",
       "\n",
       "    .dataframe tbody tr th {\n",
       "        vertical-align: top;\n",
       "    }\n",
       "\n",
       "    .dataframe thead th {\n",
       "        text-align: right;\n",
       "    }\n",
       "</style>\n",
       "<table border=\"1\" class=\"dataframe\">\n",
       "  <thead>\n",
       "    <tr style=\"text-align: right;\">\n",
       "      <th></th>\n",
       "      <th>segment_id</th>\n",
       "      <th>time_to_eruption</th>\n",
       "    </tr>\n",
       "  </thead>\n",
       "  <tbody>\n",
       "    <tr>\n",
       "      <th>0</th>\n",
       "      <td>1136037770</td>\n",
       "      <td>12262005</td>\n",
       "    </tr>\n",
       "    <tr>\n",
       "      <th>1</th>\n",
       "      <td>1969647810</td>\n",
       "      <td>32739612</td>\n",
       "    </tr>\n",
       "    <tr>\n",
       "      <th>2</th>\n",
       "      <td>1895879680</td>\n",
       "      <td>14965999</td>\n",
       "    </tr>\n",
       "    <tr>\n",
       "      <th>3</th>\n",
       "      <td>2068207140</td>\n",
       "      <td>26469720</td>\n",
       "    </tr>\n",
       "    <tr>\n",
       "      <th>4</th>\n",
       "      <td>192955606</td>\n",
       "      <td>31072429</td>\n",
       "    </tr>\n",
       "  </tbody>\n",
       "</table>\n",
       "</div>"
      ],
      "text/plain": [
       "   segment_id  time_to_eruption\n",
       "0  1136037770          12262005\n",
       "1  1969647810          32739612\n",
       "2  1895879680          14965999\n",
       "3  2068207140          26469720\n",
       "4   192955606          31072429"
      ]
     },
     "execution_count": 33,
     "metadata": {},
     "output_type": "execute_result"
    }
   ],
   "source": [
    "labels.head()"
   ]
  },
  {
   "cell_type": "markdown",
   "metadata": {},
   "source": [
    "Lastly we define a preprocessing function that fills the nan values with a window average."
   ]
  },
  {
   "cell_type": "code",
   "execution_count": 34,
   "metadata": {},
   "outputs": [],
   "source": [
    "def preprocess(volcano_name):\n",
    "    series = pd.read_csv('data/'+volcano_name)\n",
    "    return series.fillna(series.rolling(10,min_periods=1).mean()).dropna(axis=0)"
   ]
  },
  {
   "cell_type": "markdown",
   "metadata": {},
   "source": [
    "# **IV.** A Topological Approach"
   ]
  },
  {
   "cell_type": "markdown",
   "metadata": {},
   "source": [
    "Our approach is to do a Taken's Embedding for each one of the sensors. After, we compute the Vietoris-Tips filtration and extract persistence summaries: Entropy and Amplitude"
   ]
  },
  {
   "cell_type": "markdown",
   "metadata": {},
   "source": [
    "### **IV.a Takens' embedding on multivariate time series**\n"
   ]
  },
  {
   "cell_type": "markdown",
   "metadata": {},
   "source": [
    "<img src=\"images/giotto_sec_fig.png\">"
   ]
  },
  {
   "cell_type": "code",
   "execution_count": 35,
   "metadata": {},
   "outputs": [],
   "source": [
    "#Creating a The pipeline\n",
    "embedding_dimension = 10\n",
    "embedding_time_delay = 1\n",
    "stride = 100\n",
    "\n",
    "#Takens Embedding\n",
    "embedder = TakensEmbedding(time_delay=embedding_time_delay,\n",
    "                           dimension=embedding_dimension,\n",
    "                           stride=stride)\n",
    "#Persistent Homology\n",
    "persistence = VietorisRipsPersistence(homology_dimensions=[0, 1], n_jobs=-1)\n",
    "steps = [(\"embedder\", embedder),\n",
    "         (\"persistence\", persistence)]\n",
    "transfomer = Pipeline(steps)\n",
    "\n",
    "#After calculate also the amplitude and Entropy\n",
    "amp = Amplitude()\n",
    "ent = PersistenceEntropy()"
   ]
  },
  {
   "cell_type": "code",
   "execution_count": 36,
   "metadata": {},
   "outputs": [
    {
     "name": "stderr",
     "output_type": "stream",
     "text": [
      "/Users/matteocaorsi/anaconda3/lib/python3.6/site-packages/gtda/homology/simplicial.py:209: DataDimensionalityWarning:\n",
      "\n",
      "Input array X has X.shape[1] == X.shape[2]. This is consistent with a collection of distance/adjacency matrices, but the input is being treated as a collection of vectors in Euclidean space.\n",
      "\n",
      "/Users/matteocaorsi/anaconda3/lib/python3.6/site-packages/gtda/homology/simplicial.py:271: DataDimensionalityWarning:\n",
      "\n",
      "Input array X has X.shape[1] == X.shape[2]. This is consistent with a collection of distance/adjacency matrices, but the input is being treated as a collection of vectors in Euclidean space.\n",
      "\n",
      "/Users/matteocaorsi/anaconda3/lib/python3.6/site-packages/gtda/homology/simplicial.py:209: DataDimensionalityWarning:\n",
      "\n",
      "Input array X has X.shape[1] == X.shape[2]. This is consistent with a collection of distance/adjacency matrices, but the input is being treated as a collection of vectors in Euclidean space.\n",
      "\n",
      "/Users/matteocaorsi/anaconda3/lib/python3.6/site-packages/gtda/homology/simplicial.py:271: DataDimensionalityWarning:\n",
      "\n",
      "Input array X has X.shape[1] == X.shape[2]. This is consistent with a collection of distance/adjacency matrices, but the input is being treated as a collection of vectors in Euclidean space.\n",
      "\n",
      "/Users/matteocaorsi/anaconda3/lib/python3.6/site-packages/gtda/homology/simplicial.py:209: DataDimensionalityWarning:\n",
      "\n",
      "Input array X has X.shape[1] == X.shape[2]. This is consistent with a collection of distance/adjacency matrices, but the input is being treated as a collection of vectors in Euclidean space.\n",
      "\n",
      "/Users/matteocaorsi/anaconda3/lib/python3.6/site-packages/gtda/homology/simplicial.py:271: DataDimensionalityWarning:\n",
      "\n",
      "Input array X has X.shape[1] == X.shape[2]. This is consistent with a collection of distance/adjacency matrices, but the input is being treated as a collection of vectors in Euclidean space.\n",
      "\n",
      "/Users/matteocaorsi/anaconda3/lib/python3.6/site-packages/gtda/homology/simplicial.py:209: DataDimensionalityWarning:\n",
      "\n",
      "Input array X has X.shape[1] == X.shape[2]. This is consistent with a collection of distance/adjacency matrices, but the input is being treated as a collection of vectors in Euclidean space.\n",
      "\n",
      "/Users/matteocaorsi/anaconda3/lib/python3.6/site-packages/gtda/homology/simplicial.py:271: DataDimensionalityWarning:\n",
      "\n",
      "Input array X has X.shape[1] == X.shape[2]. This is consistent with a collection of distance/adjacency matrices, but the input is being treated as a collection of vectors in Euclidean space.\n",
      "\n",
      "/Users/matteocaorsi/anaconda3/lib/python3.6/site-packages/gtda/homology/simplicial.py:209: DataDimensionalityWarning:\n",
      "\n",
      "Input array X has X.shape[1] == X.shape[2]. This is consistent with a collection of distance/adjacency matrices, but the input is being treated as a collection of vectors in Euclidean space.\n",
      "\n",
      "/Users/matteocaorsi/anaconda3/lib/python3.6/site-packages/gtda/homology/simplicial.py:271: DataDimensionalityWarning:\n",
      "\n",
      "Input array X has X.shape[1] == X.shape[2]. This is consistent with a collection of distance/adjacency matrices, but the input is being treated as a collection of vectors in Euclidean space.\n",
      "\n"
     ]
    }
   ],
   "source": [
    "#Apply the takens embedding and get the persistence diagrams for every volcano (diags)\n",
    "#This is the most time-consuming part which should take around 10 minutes.\n",
    "\n",
    "diags=[]\n",
    "for volcano in volcano_ids[:-1]:\n",
    "    volcano_data = preprocess(volcano)\n",
    "    diags.append(transfomer.fit_transform(volcano_data.values.T) )\n",
    "\n",
    "#Get the H0 and H1 entropy and amplitude of each peristince diagram of each volcano   \n",
    "amplitude=[]\n",
    "entropy=[]\n",
    "ws = []\n",
    "for diag in diags:\n",
    "    amplitude.append(amp.fit_transform(diag))\n",
    "    entropy.append(ent.fit_transform(diag))\n"
   ]
  },
  {
   "cell_type": "markdown",
   "metadata": {},
   "source": [
    "### **IV.b Build new features.**\n"
   ]
  },
  {
   "cell_type": "markdown",
   "metadata": {},
   "source": [
    "<img src=\"images/giotto_trd_fig.png\">"
   ]
  },
  {
   "cell_type": "markdown",
   "metadata": {},
   "source": [
    "We now build a new dataset. For each observation (volcano) we have the topological variables just calculated. Lastly we bring the \"time_to_erupt\" variable, our regression target."
   ]
  },
  {
   "cell_type": "code",
   "execution_count": 37,
   "metadata": {},
   "outputs": [],
   "source": [
    "#merge H0 and H1 entropy and amplitude into columns\n",
    "X_topo = np.c_[np.array(amplitude)[:,:,0],np.array(amplitude)[:,:,1],\n",
    "               np.array(entropy)[:,:,0],np.array(entropy)[:,:,1]]\n",
    "\n",
    "#Grab the regression target\n",
    "y=np.array([labels[labels['segment_id']==np.int(name[:-4])]['time_to_eruption'].values[0] for name in volcano_ids[:-1]])"
   ]
  },
  {
   "cell_type": "markdown",
   "metadata": {},
   "source": [
    "# **V.** Baseline"
   ]
  },
  {
   "cell_type": "code",
   "execution_count": 39,
   "metadata": {},
   "outputs": [],
   "source": [
    "def createANN(X):\n",
    "    model = ml.Sequential()\n",
    "    model.add(ly.Input(X.shape[1]))\n",
    "    model.add(ly.BatchNormalization())\n",
    "    model.add(tfa.layers.WeightNormalization(ly.Dense(1000,activation='relu')))\n",
    "    model.add(ly.BatchNormalization())\n",
    "    model.add(ly.Dropout(0.7))\n",
    "    model.add(tfa.layers.WeightNormalization(ly.Dense(1,activation='relu')))\n",
    "\n",
    "\n",
    "    model.compile(optimizer=tfa.optimizers.AdamW(lr = 1, weight_decay = 1e-5, clipvalue = 900),loss='mean_absolute_error')\n",
    "    return model\n",
    "\n"
   ]
  },
  {
   "cell_type": "code",
   "execution_count": 40,
   "metadata": {},
   "outputs": [],
   "source": [
    "def benchmark(X,y, k=10):\n",
    "    kf = KFold(n_splits=k)\n",
    "    kf.get_n_splits(X)\n",
    "    \n",
    "    ann_scores =[]\n",
    "    xgb_scores = []\n",
    "    for train_index, test_index in kf.split(X):\n",
    "        X_train, X_val = X[train_index], X[test_index]\n",
    "        y_train, y_val = y[train_index], y[test_index]\n",
    "        \n",
    "        #ANN\n",
    "        cb_lr = ReduceLROnPlateau(monitor='val_loss', factor=0.1, min_lr=1e-7, patience=2, verbose=0, mode='min')\n",
    "        cb_early = EarlyStopping(monitor=\"val_loss\", mode=\"min\", restore_best_weights=True, patience= 5, verbose = 0)\n",
    "        model=createANN(X)\n",
    "        model.fit(X_train,y_train,batch_size=8,epochs=600,verbose=0,validation_data=(X_val,y_val),callbacks=[cb_lr,cb_early])\n",
    "\n",
    "        #XGBOOST\n",
    "        model1 = xgboost.XGBRegressor(n_estimators=100000,max_depth=8,learning_rate=0.05,alpha=0.1,SUBSAMPLE=0.6)\n",
    "        eval_set = [(X_val, y_val)]\n",
    "        model1.fit(X_train, y_train,early_stopping_rounds=5,eval_metric='mae', eval_set=eval_set, verbose=False)\n",
    "        \n",
    "        ann_scores.append(np.mean(np.abs(model.predict(X_val)-y_val)))\n",
    "        xgb_scores.append(np.mean(np.abs(model1.predict(X_val)-y_val)))\n",
    "    \n",
    "    return np.mean(ann_scores), np.mean(xgb_scores)\n",
    "        \n",
    "        "
   ]
  },
  {
   "cell_type": "code",
   "execution_count": 41,
   "metadata": {
    "scrolled": true
   },
   "outputs": [],
   "source": [
    "ann, xgb = benchmark(X_topo, y, k=10)"
   ]
  },
  {
   "cell_type": "code",
   "execution_count": 42,
   "metadata": {},
   "outputs": [
    {
     "name": "stdout",
     "output_type": "stream",
     "text": [
      "Neural Network 10-fold MAE: 11934000.737651901\n",
      "XGBoost 10-fold MAE: 6199718.598537879\n"
     ]
    }
   ],
   "source": [
    "print(f'Neural Network 10-fold MAE: {ann}')\n",
    "print(f'XGBoost 10-fold MAE: {xgb}')"
   ]
  },
  {
   "cell_type": "markdown",
   "metadata": {},
   "source": [
    "# **VI.** Comparison"
   ]
  },
  {
   "cell_type": "markdown",
   "metadata": {},
   "source": [
    "Here we compare out method with the baseline one. This approach was taked from the most voted baseline notebook at this kaggle competition: https://www.kaggle.com/soheild91/ingv-nn-xgb-baseline\n",
    "\n",
    "The idea is similar but the features extracted from each sensor are not the topological ones but simple statistical ones. While we took one 2 features per sensor, the standard baseline takes 12 new features per sensor"
   ]
  },
  {
   "cell_type": "code",
   "execution_count": 43,
   "metadata": {},
   "outputs": [],
   "source": [
    "new_features=12\n",
    "base_data=np.empty((len(volcano_ids[:-1]),new_features*10))\n",
    "for i_ in range(len(volcano_ids[:-1])):\n",
    "    the_df=preprocess(volcano_ids[i_])\n",
    "    base_data[i_,:]=np.concatenate((the_df.abs().mean().to_numpy(),\n",
    "                                    the_df.std().to_numpy(),\n",
    "                                    the_df.mean().to_numpy(),\n",
    "                                    the_df.var().to_numpy(),\n",
    "                                    the_df.min().to_numpy(),\n",
    "                                    the_df.max().to_numpy(),\n",
    "                                    the_df.median().to_numpy(),\n",
    "                                    the_df.quantile([0.1,0.25,0.5,0.75,0.9]).to_numpy().reshape(1,-1)[0]))"
   ]
  },
  {
   "cell_type": "code",
   "execution_count": 44,
   "metadata": {
    "scrolled": true
   },
   "outputs": [],
   "source": [
    "stats = benchmark(base_data,y,k=10)\n",
    "together = benchmark(np.c_[X_topo,base_data],y,k=10)"
   ]
  },
  {
   "cell_type": "markdown",
   "metadata": {},
   "source": [
    "# **VII.** Conclusion"
   ]
  },
  {
   "cell_type": "code",
   "execution_count": 45,
   "metadata": {},
   "outputs": [
    {
     "name": "stdout",
     "output_type": "stream",
     "text": [
      "Just Topological features\n",
      "Neural Network 10-fold MAE: 11934000.737651901\n",
      "XGBoost 10-fold MAE: 6199718.598537879\n",
      "\n",
      "\n",
      "Just Simple Statistics\n",
      "Neural Network 10-fold MAE: 12084671.953275347\n",
      "XGBoost 10-fold MAE: 5517564.071341541\n",
      "\n",
      "\n",
      "Both together\n",
      "Neural Network 10-fold MAE: 12073228.733663544\n",
      "XGBoost 10-fold MAE: 5257242.759626263\n"
     ]
    }
   ],
   "source": [
    "print('Just Topological features')\n",
    "print(f'Neural Network 10-fold MAE: {ann}')\n",
    "print(f'XGBoost 10-fold MAE: {xgb}')\n",
    "print('\\n')\n",
    "print('Just Simple Statistics')\n",
    "print(f'Neural Network 10-fold MAE: {stats[0]}')\n",
    "print(f'XGBoost 10-fold MAE: {stats[1]}')\n",
    "print('\\n')\n",
    "print('Both together')\n",
    "print(f'Neural Network 10-fold MAE: {together[0]}')\n",
    "print(f'XGBoost 10-fold MAE: {together[1]}')"
   ]
  },
  {
   "cell_type": "markdown",
   "metadata": {},
   "source": [
    "### Note that we are only using 1/8 of the whole dataset we still manage to get a very competitive approach. Note that the simple statistical approach has 6 times more features. The results are nothing short of impressive specially when considering both approaches combined."
   ]
  },
  {
   "cell_type": "markdown",
   "metadata": {},
   "source": [
    "Below is the kaggle leaderboard for comparison."
   ]
  },
  {
   "cell_type": "markdown",
   "metadata": {},
   "source": [
    "<img src=\"images/giotto_leaderboard.png\">"
   ]
  },
  {
   "cell_type": "markdown",
   "metadata": {},
   "source": [
    "## Authors: António Leitão and Giovanni Petri"
   ]
  }
 ],
 "metadata": {
  "kernelspec": {
   "display_name": "Python 3",
   "language": "python",
   "name": "python3"
  },
  "language_info": {
   "codemirror_mode": {
    "name": "ipython",
    "version": 3
   },
   "file_extension": ".py",
   "mimetype": "text/x-python",
   "name": "python",
   "nbconvert_exporter": "python",
   "pygments_lexer": "ipython3",
   "version": "3.6.8"
  }
 },
 "nbformat": 4,
 "nbformat_minor": 2
}
